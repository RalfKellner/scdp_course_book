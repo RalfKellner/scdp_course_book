{
 "cells": [
  {
   "cell_type": "code",
   "execution_count": 43,
   "metadata": {},
   "outputs": [],
   "source": [
    "import pandas as pd\n",
    "import matplotlib.pylab as plt\n",
    "import sqlite3"
   ]
  },
  {
   "cell_type": "markdown",
   "metadata": {},
   "source": [
    "# Working with Data \n",
    "\n",
    "So far, you still may see python as a powerful calculator, however, it is so much more. One important tool is to import data, manipulate it, analyze and export it. Several libraries offer useful tools to work with data in order to allow for a meaningful analysis. One of the most popular and powerful is [**Pandas**](https://pandas.pydata.org/pandas-docs/stable/index.html). Beside including efficient ways for cleaning and manipulating data, pandas also includes functions for statistical analysis and graphics.\n",
    "\n",
    "Usually, pandas is imported under the alias ```pd```.\n",
    "\n",
    "## Pandas - DataFrames and Series\n",
    "\n",
    "### Indexing\n",
    "The basic elements for data are *DataFrames* and *Series*. A DataFrame is a whole matrix- or table-like representation of data with column and row names. A Series can be understood as a single column of such a data matrix (but without the need for a table). There are respective functions to turn other objects, e.g. lists or dicts, into DataFrames or Series. Indexing, similar to lists or dicts, uses square brackets."
   ]
  },
  {
   "cell_type": "code",
   "execution_count": 3,
   "metadata": {},
   "outputs": [
    {
     "name": "stdout",
     "output_type": "stream",
     "text": [
      "df:\n",
      "    var1\n",
      "0     1\n",
      "1     2\n",
      "2     3\n",
      "3     4\n",
      "4     5\n",
      "5     6\n",
      "6     7\n",
      "series:\n",
      " 0    1\n",
      "1    2\n",
      "2    3\n",
      "3    4\n",
      "4    5\n",
      "5    6\n",
      "6    7\n",
      "dtype: int64\n",
      "select column from df:\n",
      " 0    1\n",
      "1    2\n",
      "2    3\n",
      "3    4\n",
      "4    5\n",
      "5    6\n",
      "6    7\n",
      "Name: var1, dtype: int64\n"
     ]
    }
   ],
   "source": [
    "my_list = [1,2,3,4,5,6,7]\n",
    "my_df = pd.DataFrame(my_list, columns=['var1'])\n",
    "print('df:\\n', my_df)\n",
    "\n",
    "my_series = pd.Series(my_list)\n",
    "print('series:\\n',my_series)\n",
    "\n",
    "# selecting a single column from a DataFrame\n",
    "print('select column from df:\\n', my_df['var1'])"
   ]
  },
  {
   "cell_type": "markdown",
   "metadata": {},
   "source": [
    "To select specific rows or columns, the ```iloc``` method, for selecting based on an index, and ```loc``` method, based on labels, are recommended. Especially when several columns are to be selected. Indexing can also be done by boolean Series (or lists) and thus conditionally. Another way to select a single column is by chaining the column's name to the DataFrame's name by a dot (like in method chaining)."
   ]
  },
  {
   "cell_type": "code",
   "execution_count": 4,
   "metadata": {},
   "outputs": [
    {
     "name": "stdout",
     "output_type": "stream",
     "text": [
      "          age  height\n",
      "person_a   20     183\n",
      "person_b   34     179\n",
      "person_c   56     172\n",
      "1.: 34 is the same as 34\n",
      "indexing by condition/list\n",
      "           age  height\n",
      "person_b   34     179\n",
      "person_c   56     172 \n",
      "corresponds to \n",
      "           age  height\n",
      "person_b   34     179\n",
      "person_c   56     172\n",
      "<class 'pandas.core.series.Series'>\n"
     ]
    }
   ],
   "source": [
    "my_df = pd.DataFrame(\n",
    "{'age': [20, 34, 56],\n",
    " 'height': [183, 179, 172]\n",
    "}, index=['person_a', 'person_b', 'person_c'])\n",
    "print(my_df)\n",
    "print('1.:', my_df.loc['person_b','age'], 'is the same as',  my_df.iloc[1,0])\n",
    "\n",
    "# age > 27\n",
    "print('indexing by condition/list\\n', my_df.loc[my_df.age >27], '\\ncorresponds to \\n', my_df.loc[[False, True, True]])\n",
    "print(type(my_df.age >27))"
   ]
  },
  {
   "cell_type": "markdown",
   "metadata": {},
   "source": [
    "### Useful Methods\n",
    "\n",
    "Pandas includes many useful methods that will help you get to know and manipulate a dataset. Some of these methods are shown in the following, others are introduced later when needed.\\\n",
    "More often than not, a dataset will contain missing values, i.e. cells in a data table contain no value. They will be depicted as ```NaN```, **N**ot **a** **N**umber."
   ]
  },
  {
   "cell_type": "code",
   "execution_count": 5,
   "metadata": {},
   "outputs": [
    {
     "data": {
      "text/html": [
       "<div>\n",
       "<style scoped>\n",
       "    .dataframe tbody tr th:only-of-type {\n",
       "        vertical-align: middle;\n",
       "    }\n",
       "\n",
       "    .dataframe tbody tr th {\n",
       "        vertical-align: top;\n",
       "    }\n",
       "\n",
       "    .dataframe thead th {\n",
       "        text-align: right;\n",
       "    }\n",
       "</style>\n",
       "<table border=\"1\" class=\"dataframe\">\n",
       "  <thead>\n",
       "    <tr style=\"text-align: right;\">\n",
       "      <th></th>\n",
       "      <th>age</th>\n",
       "      <th>height</th>\n",
       "    </tr>\n",
       "  </thead>\n",
       "  <tbody>\n",
       "    <tr>\n",
       "      <th>0</th>\n",
       "      <td>20.0</td>\n",
       "      <td>183.0</td>\n",
       "    </tr>\n",
       "    <tr>\n",
       "      <th>1</th>\n",
       "      <td>34.0</td>\n",
       "      <td>179.0</td>\n",
       "    </tr>\n",
       "    <tr>\n",
       "      <th>2</th>\n",
       "      <td>56.0</td>\n",
       "      <td>NaN</td>\n",
       "    </tr>\n",
       "    <tr>\n",
       "      <th>3</th>\n",
       "      <td>NaN</td>\n",
       "      <td>163.0</td>\n",
       "    </tr>\n",
       "    <tr>\n",
       "      <th>4</th>\n",
       "      <td>44.0</td>\n",
       "      <td>NaN</td>\n",
       "    </tr>\n",
       "  </tbody>\n",
       "</table>\n",
       "</div>"
      ],
      "text/plain": [
       "    age  height\n",
       "0  20.0   183.0\n",
       "1  34.0   179.0\n",
       "2  56.0     NaN\n",
       "3   NaN   163.0\n",
       "4  44.0     NaN"
      ]
     },
     "execution_count": 5,
     "metadata": {},
     "output_type": "execute_result"
    }
   ],
   "source": [
    "import numpy as np\n",
    "my_df =  pd.DataFrame(\n",
    "{'age': [20, 34, 56, np.nan, 44],\n",
    " 'height': [183, 179, np.nan,  163, np.nan]\n",
    "})\n",
    "my_df"
   ]
  },
  {
   "cell_type": "code",
   "execution_count": 7,
   "metadata": {},
   "outputs": [
    {
     "name": "stdout",
     "output_type": "stream",
     "text": [
      "0.\n",
      "     age  height\n",
      "0  20.0   183.0\n",
      "1  34.0   179.0\n",
      "2  56.0   175.0\n",
      "3  38.5   163.0\n",
      "4  44.0   175.0\n",
      "\n",
      "1.\n",
      "<class 'pandas.core.frame.DataFrame'>\n",
      "RangeIndex: 5 entries, 0 to 4\n",
      "Data columns (total 2 columns):\n",
      " #   Column  Non-Null Count  Dtype  \n",
      "---  ------  --------------  -----  \n",
      " 0   age     5 non-null      float64\n",
      " 1   height  5 non-null      float64\n",
      "dtypes: float64(2)\n",
      "memory usage: 212.0 bytes\n",
      "\n",
      "2.\n",
      "              age      height\n",
      "count   5.000000    5.000000\n",
      "mean   38.500000  175.000000\n",
      "std    13.219304    7.483315\n",
      "min    20.000000  163.000000\n",
      "25%    34.000000  175.000000\n",
      "50%    38.500000  175.000000\n",
      "75%    44.000000  179.000000\n",
      "max    56.000000  183.000000\n",
      "\n",
      "3.\n",
      " age       0\n",
      "height    0\n",
      "dtype: int64\n",
      "\n",
      "4.\n",
      " 38.5\n",
      "\n",
      " 5.\n",
      "     age  height\n",
      "0  20.0   183.0\n",
      "1  34.0   179.0\n",
      "2  56.0   175.0\n",
      "3  38.5   163.0\n",
      "4  44.0   175.0\n",
      "\n",
      "6.\n",
      "     age  height\n",
      "3  38.5   163.0\n",
      "2  56.0   175.0\n",
      "4  44.0   175.0\n",
      "1  34.0   179.0\n",
      "0  20.0   183.0\n",
      "7.\n",
      " Index(['age', 'height'], dtype='object')\n",
      "8.\n",
      "     age  height\n",
      "0  20.0   183.0\n",
      "1  34.0   179.0\n",
      "2  56.0   175.0\n",
      "3  38.5   163.0\n",
      "4  44.0   175.0\n",
      "9.\n",
      "    height\n",
      "0   183.0\n",
      "1   179.0\n",
      "2   175.0\n",
      "3   163.0\n",
      "4   175.0\n",
      "10.\n",
      "     age  height  weight\n",
      "0  20.0   183.0      83\n",
      "1  34.0   179.0      63\n",
      "2  56.0   175.0      98\n",
      "3  44.0   175.0      77\n",
      "11.\n",
      "              age    height    weight\n",
      "age     1.000000 -0.946549  0.481176\n",
      "height -0.946549  1.000000 -0.282126\n",
      "weight  0.481176 -0.282126  1.000000\n"
     ]
    },
    {
     "data": {
      "text/html": [
       "<div>\n",
       "<style scoped>\n",
       "    .dataframe tbody tr th:only-of-type {\n",
       "        vertical-align: middle;\n",
       "    }\n",
       "\n",
       "    .dataframe tbody tr th {\n",
       "        vertical-align: top;\n",
       "    }\n",
       "\n",
       "    .dataframe thead th {\n",
       "        text-align: right;\n",
       "    }\n",
       "</style>\n",
       "<table border=\"1\" class=\"dataframe\">\n",
       "  <thead>\n",
       "    <tr style=\"text-align: right;\">\n",
       "      <th></th>\n",
       "      <th>age</th>\n",
       "      <th>height</th>\n",
       "      <th>weight</th>\n",
       "      <th>bmi</th>\n",
       "    </tr>\n",
       "  </thead>\n",
       "  <tbody>\n",
       "    <tr>\n",
       "      <th>0</th>\n",
       "      <td>20.0</td>\n",
       "      <td>183.0</td>\n",
       "      <td>83</td>\n",
       "      <td>24.784258</td>\n",
       "    </tr>\n",
       "    <tr>\n",
       "      <th>1</th>\n",
       "      <td>34.0</td>\n",
       "      <td>179.0</td>\n",
       "      <td>63</td>\n",
       "      <td>19.662308</td>\n",
       "    </tr>\n",
       "    <tr>\n",
       "      <th>2</th>\n",
       "      <td>56.0</td>\n",
       "      <td>175.0</td>\n",
       "      <td>98</td>\n",
       "      <td>32.000000</td>\n",
       "    </tr>\n",
       "    <tr>\n",
       "      <th>3</th>\n",
       "      <td>44.0</td>\n",
       "      <td>175.0</td>\n",
       "      <td>77</td>\n",
       "      <td>25.142857</td>\n",
       "    </tr>\n",
       "  </tbody>\n",
       "</table>\n",
       "</div>"
      ],
      "text/plain": [
       "    age  height  weight        bmi\n",
       "0  20.0   183.0      83  24.784258\n",
       "1  34.0   179.0      63  19.662308\n",
       "2  56.0   175.0      98  32.000000\n",
       "3  44.0   175.0      77  25.142857"
      ]
     },
     "execution_count": 7,
     "metadata": {},
     "output_type": "execute_result"
    }
   ],
   "source": [
    "# view the first rows (view last rows with .tail())\n",
    "print('0.\\n', my_df.head(n=5))\n",
    "\n",
    "# general information\n",
    "print('\\n1.')\n",
    "my_df.info()\n",
    "\n",
    "# descriptive statistsics on dataset\n",
    "print('\\n2.\\n',my_df.describe())\n",
    "\n",
    "# number of missing values per column\n",
    "print('\\n3.\\n',my_df.isnull().sum())\n",
    "\n",
    "# single statistics are included as methods, also for single columns\n",
    "print('\\n4.\\n', my_df.age.mean())\n",
    "\n",
    "# fill missing values (e.g. with mean of column)\n",
    "print('\\n 5.\\n', my_df.fillna(my_df.mean()))    \n",
    "\n",
    "# note that you must assign this to my_df (or a different variable) in order to impute missing values permanently!\n",
    "my_df = my_df.fillna(my_df.mean())\n",
    "\n",
    "# sort values by column(s)\n",
    "print('\\n6.\\n', my_df.sort_values(by=['height']))    \n",
    "\n",
    "# get column names (useful for looping)\n",
    "print('7.\\n', my_df.columns)\n",
    "\n",
    "# drop rows containing missing values\n",
    "print('8.\\n', my_df.dropna()) \n",
    "\n",
    "# drop rows or columns\n",
    "print('9.\\n', my_df.drop(['age'], axis=1))\n",
    "\n",
    "# merge DataFrames (automatically on shared variable if not specified otherwise)\n",
    "df2 = pd.DataFrame(\n",
    "{'age': [20, 34, 56, np.nan, 44],\n",
    " 'weight': [83, 63, 98,  50, 77]\n",
    "})\n",
    "print('10.\\n', my_df.merge(df2))\n",
    "my_df = my_df.merge(df2)\n",
    "\n",
    "# correlation matrix\n",
    "print('11.\\n', my_df.corr())\n",
    "\n",
    "# adding new columns\n",
    "my_df = my_df.assign(bmi = my_df.weight/(my_df.height/100)**2)\n",
    "my_df"
   ]
  },
  {
   "cell_type": "markdown",
   "metadata": {},
   "source": [
    "As a last tool in this section, we will look at the ```get_dummies()``` function. Dummy variables are used to encode categorical variables with zero and one, for example in order to calculate the correlation with some other numerical variable."
   ]
  },
  {
   "cell_type": "code",
   "execution_count": 8,
   "metadata": {},
   "outputs": [
    {
     "name": "stdout",
     "output_type": "stream",
     "text": [
      "   black  blonde    red\n",
      "0  False    True  False\n",
      "1   True   False  False\n",
      "2  False   False   True\n",
      "3  False   False   True\n",
      "4   True   False  False\n"
     ]
    }
   ],
   "source": [
    "df3 = pd.DataFrame(\n",
    "{'hair': ['blonde', 'black', 'red', 'red', 'black']\n",
    "})\n",
    "\n",
    "print(pd.get_dummies(df3.hair))"
   ]
  },
  {
   "cell_type": "markdown",
   "metadata": {},
   "source": [
    "### Plots\n",
    "Methods for standard pot types are available. For a histogram of the data, just use ```.hist()```. Other types are available by chaining ```.plot.``` and the plot type. "
   ]
  },
  {
   "cell_type": "code",
   "execution_count": 15,
   "metadata": {},
   "outputs": [
    {
     "data": {
      "image/png": "[encoded data removed]",
      "text/plain": [
       "<Figure size 640x480 with 4 Axes>"
      ]
     },
     "metadata": {},
     "output_type": "display_data"
    },
    {
     "data": {
      "image/png": "[encoded data removed]",
      "text/plain": [
       "<Figure size 640x480 with 1 Axes>"
      ]
     },
     "metadata": {},
     "output_type": "display_data"
    },
    {
     "data": {
      "image/png": "[encoded data removed]",
      "text/plain": [
       "<Figure size 640x480 with 1 Axes>"
      ]
     },
     "metadata": {},
     "output_type": "display_data"
    }
   ],
   "source": [
    "# histogram\n",
    "my_df.hist()\n",
    "plt.show()\n",
    "\n",
    "# lineplot\n",
    "my_df.sort_values(by='age').plot.line(x='age', y='height')\n",
    "plt.show()\n",
    "\n",
    "# scatter plot\n",
    "my_df.plot.scatter(x='age', y='weight')\n",
    "plt.show()"
   ]
  },
  {
   "cell_type": "markdown",
   "metadata": {},
   "source": [
    "### Importing and Exporting Data\n",
    "\n",
    "Your data may come to you in various file formats. Pandas enables you to import data from all common formats. The respective functions are usually called ```read_``` and ```to_``` followed by the respective file type. To read a *.csv* for example, use the ```read_csv()``` function. Note that the file need not to be stored locally on your computer."
   ]
  },
  {
   "cell_type": "code",
   "execution_count": 16,
   "metadata": {},
   "outputs": [
    {
     "name": "stdout",
     "output_type": "stream",
     "text": [
      "         Date         Open         High          Low        Close  \\\n",
      "0  2022-01-03  2788.020020  2804.939941  2783.040039  2804.929932   \n",
      "1  2022-01-04  2788.020020  2817.110107  2783.040039  2800.409912   \n",
      "2  2022-01-05  2799.729980  2801.260010  2738.939941  2739.340088   \n",
      "3  2022-01-06  2739.229980  2756.689941  2721.560059  2739.199951   \n",
      "4  2022-01-07  2739.060059  2748.270020  2718.560059  2725.600098   \n",
      "\n",
      "     Adj Close  Volume  \n",
      "0  2804.929932       0  \n",
      "1  2800.409912       0  \n",
      "2  2739.340088       0  \n",
      "3  2739.199951       0  \n",
      "4  2725.600098       0  \n",
      "           Date         Open         High          Low        Close  \\\n",
      "533  2024-02-16  2885.469971  2890.629883  2870.000000  2882.639893   \n",
      "534  2024-02-20  2859.389893  2862.790039  2842.050049  2853.409912   \n",
      "535  2024-02-21  2845.770020  2855.149902  2834.800049  2854.620117   \n",
      "536  2024-02-22  2877.489990  2915.370117  2876.699951  2911.399902   \n",
      "537  2024-02-23  2919.000000  2923.610107  2908.379883  2913.219971   \n",
      "\n",
      "       Adj Close  Volume  \n",
      "533  2882.639893       0  \n",
      "534  2853.409912       0  \n",
      "535  2854.620117       0  \n",
      "536  2911.399902       0  \n",
      "537  2913.219971       0  \n"
     ]
    }
   ],
   "source": [
    "russell = pd.read_csv('../data/close_prices_rua.csv')\n",
    "print(russell.head())\n",
    "print(russell.tail())"
   ]
  },
  {
   "cell_type": "markdown",
   "metadata": {},
   "source": [
    "Lets do some exploration and manipulation of the historical data from the Russell 3000 index we just imported."
   ]
  },
  {
   "cell_type": "code",
   "execution_count": 19,
   "metadata": {},
   "outputs": [
    {
     "name": "stdout",
     "output_type": "stream",
     "text": [
      "Dimensionality of the data frame: (538, 7)\n",
      "\n",
      "<class 'pandas.core.frame.DataFrame'>\n",
      "RangeIndex: 538 entries, 0 to 537\n",
      "Data columns (total 7 columns):\n",
      " #   Column     Non-Null Count  Dtype  \n",
      "---  ------     --------------  -----  \n",
      " 0   Date       538 non-null    object \n",
      " 1   Open       538 non-null    float64\n",
      " 2   High       538 non-null    float64\n",
      " 3   Low        538 non-null    float64\n",
      " 4   Close      538 non-null    float64\n",
      " 5   Adj Close  538 non-null    float64\n",
      " 6   Volume     538 non-null    int64  \n",
      "dtypes: float64(5), int64(1), object(1)\n",
      "memory usage: 29.6+ KB\n",
      "None\n"
     ]
    }
   ],
   "source": [
    "print(f'Dimensionality of the data frame: {russell.shape}\\n')\n",
    "print(russell.info())    # the 'Date' column is of dtype object "
   ]
  },
  {
   "cell_type": "code",
   "execution_count": 20,
   "metadata": {},
   "outputs": [
    {
     "name": "stdout",
     "output_type": "stream",
     "text": [
      "<class 'str'>\n"
     ]
    }
   ],
   "source": [
    "# check type of first entry in 'Date'\n",
    "print(type(russell.Date[0]))"
   ]
  },
  {
   "cell_type": "markdown",
   "metadata": {},
   "source": [
    "The date is currently in string format, let us transform it to *datetime*, a special type for dates in python."
   ]
  },
  {
   "cell_type": "code",
   "execution_count": 21,
   "metadata": {},
   "outputs": [
    {
     "name": "stdout",
     "output_type": "stream",
     "text": [
      "0   2022-01-03\n",
      "1   2022-01-04\n",
      "2   2022-01-05\n",
      "3   2022-01-06\n",
      "4   2022-01-07\n",
      "Name: Datetime, dtype: datetime64[ns]\n"
     ]
    }
   ],
   "source": [
    "russell['Datetime'] = pd.to_datetime(russell.Date)\n",
    "print(russell.Datetime.head())    # check dtype now"
   ]
  },
  {
   "cell_type": "code",
   "execution_count": 24,
   "metadata": {},
   "outputs": [
    {
     "name": "stdout",
     "output_type": "stream",
     "text": [
      "The column names are: \n",
      "Index(['Date', 'Open', 'High', 'Low', 'Close', 'Adj Close', 'Volume',\n",
      "       'Datetime'],\n",
      "      dtype='object')\n"
     ]
    }
   ],
   "source": [
    "print(f\"The column names are: \\n{russell.columns}\")"
   ]
  },
  {
   "cell_type": "code",
   "execution_count": 26,
   "metadata": {},
   "outputs": [
    {
     "name": "stdout",
     "output_type": "stream",
     "text": [
      "There are a total of 0 missing values in the data set\n"
     ]
    }
   ],
   "source": [
    "print(f'There are a total of {russell.isnull().sum().sum()} missing values in the data set')"
   ]
  },
  {
   "cell_type": "code",
   "execution_count": 27,
   "metadata": {},
   "outputs": [
    {
     "data": {
      "text/plain": [
       "<Axes: xlabel='Datetime'>"
      ]
     },
     "execution_count": 27,
     "metadata": {},
     "output_type": "execute_result"
    },
    {
     "data": {
      "image/png": "[encoded data removed]",
      "text/plain": [
       "<Figure size 640x480 with 1 Axes>"
      ]
     },
     "metadata": {},
     "output_type": "display_data"
    }
   ],
   "source": [
    "russell.plot(x='Datetime', y=['Open', 'Close'])    # using Datetime for plotting"
   ]
  },
  {
   "cell_type": "markdown",
   "metadata": {},
   "source": [
    "The ```describe``` method offers some descriptive statistics of the data set."
   ]
  },
  {
   "cell_type": "code",
   "execution_count": 28,
   "metadata": {},
   "outputs": [
    {
     "data": {
      "text/html": [
       "<div>\n",
       "<style scoped>\n",
       "    .dataframe tbody tr th:only-of-type {\n",
       "        vertical-align: middle;\n",
       "    }\n",
       "\n",
       "    .dataframe tbody tr th {\n",
       "        vertical-align: top;\n",
       "    }\n",
       "\n",
       "    .dataframe thead th {\n",
       "        text-align: right;\n",
       "    }\n",
       "</style>\n",
       "<table border=\"1\" class=\"dataframe\">\n",
       "  <thead>\n",
       "    <tr style=\"text-align: right;\">\n",
       "      <th></th>\n",
       "      <th>Open</th>\n",
       "      <th>High</th>\n",
       "      <th>Low</th>\n",
       "      <th>Close</th>\n",
       "      <th>Adj Close</th>\n",
       "      <th>Volume</th>\n",
       "      <th>Datetime</th>\n",
       "    </tr>\n",
       "  </thead>\n",
       "  <tbody>\n",
       "    <tr>\n",
       "      <th>count</th>\n",
       "      <td>538.000000</td>\n",
       "      <td>538.000000</td>\n",
       "      <td>538.000000</td>\n",
       "      <td>538.000000</td>\n",
       "      <td>538.000000</td>\n",
       "      <td>538.0</td>\n",
       "      <td>538</td>\n",
       "    </tr>\n",
       "    <tr>\n",
       "      <th>mean</th>\n",
       "      <td>2445.081027</td>\n",
       "      <td>2461.713682</td>\n",
       "      <td>2427.139280</td>\n",
       "      <td>2445.296892</td>\n",
       "      <td>2445.296892</td>\n",
       "      <td>0.0</td>\n",
       "      <td>2023-01-27 15:07:21.635687680</td>\n",
       "    </tr>\n",
       "    <tr>\n",
       "      <th>min</th>\n",
       "      <td>2035.680054</td>\n",
       "      <td>2091.870117</td>\n",
       "      <td>2026.229980</td>\n",
       "      <td>2076.070068</td>\n",
       "      <td>2076.070068</td>\n",
       "      <td>0.0</td>\n",
       "      <td>2022-01-03 00:00:00</td>\n",
       "    </tr>\n",
       "    <tr>\n",
       "      <th>25%</th>\n",
       "      <td>2308.085022</td>\n",
       "      <td>2322.982422</td>\n",
       "      <td>2283.952393</td>\n",
       "      <td>2304.890015</td>\n",
       "      <td>2304.890015</td>\n",
       "      <td>0.0</td>\n",
       "      <td>2022-07-18 06:00:00</td>\n",
       "    </tr>\n",
       "    <tr>\n",
       "      <th>50%</th>\n",
       "      <td>2417.375000</td>\n",
       "      <td>2436.104980</td>\n",
       "      <td>2398.869995</td>\n",
       "      <td>2418.340088</td>\n",
       "      <td>2418.340088</td>\n",
       "      <td>0.0</td>\n",
       "      <td>2023-01-28 12:00:00</td>\n",
       "    </tr>\n",
       "    <tr>\n",
       "      <th>75%</th>\n",
       "      <td>2577.137451</td>\n",
       "      <td>2594.047424</td>\n",
       "      <td>2562.204956</td>\n",
       "      <td>2577.842590</td>\n",
       "      <td>2577.842590</td>\n",
       "      <td>0.0</td>\n",
       "      <td>2023-08-10 18:00:00</td>\n",
       "    </tr>\n",
       "    <tr>\n",
       "      <th>max</th>\n",
       "      <td>2919.000000</td>\n",
       "      <td>2923.610107</td>\n",
       "      <td>2908.379883</td>\n",
       "      <td>2913.219971</td>\n",
       "      <td>2913.219971</td>\n",
       "      <td>0.0</td>\n",
       "      <td>2024-02-23 00:00:00</td>\n",
       "    </tr>\n",
       "    <tr>\n",
       "      <th>std</th>\n",
       "      <td>181.644747</td>\n",
       "      <td>179.224093</td>\n",
       "      <td>184.264154</td>\n",
       "      <td>182.332170</td>\n",
       "      <td>182.332170</td>\n",
       "      <td>0.0</td>\n",
       "      <td>NaN</td>\n",
       "    </tr>\n",
       "  </tbody>\n",
       "</table>\n",
       "</div>"
      ],
      "text/plain": [
       "              Open         High          Low        Close    Adj Close  \\\n",
       "count   538.000000   538.000000   538.000000   538.000000   538.000000   \n",
       "mean   2445.081027  2461.713682  2427.139280  2445.296892  2445.296892   \n",
       "min    2035.680054  2091.870117  2026.229980  2076.070068  2076.070068   \n",
       "25%    2308.085022  2322.982422  2283.952393  2304.890015  2304.890015   \n",
       "50%    2417.375000  2436.104980  2398.869995  2418.340088  2418.340088   \n",
       "75%    2577.137451  2594.047424  2562.204956  2577.842590  2577.842590   \n",
       "max    2919.000000  2923.610107  2908.379883  2913.219971  2913.219971   \n",
       "std     181.644747   179.224093   184.264154   182.332170   182.332170   \n",
       "\n",
       "       Volume                       Datetime  \n",
       "count   538.0                            538  \n",
       "mean      0.0  2023-01-27 15:07:21.635687680  \n",
       "min       0.0            2022-01-03 00:00:00  \n",
       "25%       0.0            2022-07-18 06:00:00  \n",
       "50%       0.0            2023-01-28 12:00:00  \n",
       "75%       0.0            2023-08-10 18:00:00  \n",
       "max       0.0            2024-02-23 00:00:00  \n",
       "std       0.0                            NaN  "
      ]
     },
     "execution_count": 28,
     "metadata": {},
     "output_type": "execute_result"
    }
   ],
   "source": [
    "russell.describe()"
   ]
  },
  {
   "cell_type": "markdown",
   "metadata": {},
   "source": [
    "For statistics on one variable, index the result as usual. "
   ]
  },
  {
   "cell_type": "code",
   "execution_count": 29,
   "metadata": {},
   "outputs": [
    {
     "name": "stdout",
     "output_type": "stream",
     "text": [
      "The average opening price is: 2445.08\n"
     ]
    }
   ],
   "source": [
    "mean_open = russell.describe().loc['mean', 'Open']\n",
    "print(f\"The average opening price is: {mean_open:.2f}\")"
   ]
  },
  {
   "cell_type": "markdown",
   "metadata": {},
   "source": [
    "Create a new column, with a flag if the closing price was higher than the opening price."
   ]
  },
  {
   "cell_type": "code",
   "execution_count": 34,
   "metadata": {},
   "outputs": [
    {
     "name": "stdout",
     "output_type": "stream",
     "text": [
      "         Date         Open         High          Low        Close  \\\n",
      "0  2022-01-03  2788.020020  2804.939941  2783.040039  2804.929932   \n",
      "1  2022-01-04  2788.020020  2817.110107  2783.040039  2800.409912   \n",
      "2  2022-01-05  2799.729980  2801.260010  2738.939941  2739.340088   \n",
      "3  2022-01-06  2739.229980  2756.689941  2721.560059  2739.199951   \n",
      "4  2022-01-07  2739.060059  2748.270020  2718.560059  2725.600098   \n",
      "\n",
      "     Adj Close  Volume   Datetime  positive  \n",
      "0  2804.929932       0 2022-01-03      True  \n",
      "1  2800.409912       0 2022-01-04      True  \n",
      "2  2739.340088       0 2022-01-05     False  \n",
      "3  2739.199951       0 2022-01-06     False  \n",
      "4  2725.600098       0 2022-01-07     False  \n",
      "\n",
      "Fraction of positive days: 0.5037\n",
      "\n",
      "\n",
      "check: \n",
      " positive\n",
      "True     271\n",
      "False    267\n",
      "Name: count, dtype: int64\n"
     ]
    }
   ],
   "source": [
    "russell = russell.assign(positive = russell.Close > russell.Open)\n",
    "print(russell.head())\n",
    "\n",
    "# fraction of days when this was the case\n",
    "print(f'\\nFraction of positive days: {russell.positive.mean():.4f}\\n')\n",
    "print('\\ncheck: \\n', russell.positive.value_counts())"
   ]
  },
  {
   "cell_type": "markdown",
   "metadata": {},
   "source": [
    "Extract same fraction for every day in the week. Days are counted from 0 (Monday) to 6 (Sunday). "
   ]
  },
  {
   "cell_type": "code",
   "execution_count": 35,
   "metadata": {},
   "outputs": [
    {
     "name": "stdout",
     "output_type": "stream",
     "text": [
      "day 0:  0.5894736842105263\n",
      "day 1:  0.4774774774774775\n",
      "day 2:  0.4732142857142857\n",
      "day 3:  0.4909090909090909\n",
      "day 4:  0.5\n",
      "day 5:  nan\n",
      "day 6:  nan\n"
     ]
    }
   ],
   "source": [
    "for i in range(7):\n",
    "    print(f'day {i}: ', russell[russell.Datetime.dt.dayofweek == i].positive.mean())"
   ]
  },
  {
   "cell_type": "markdown",
   "metadata": {},
   "source": [
    "A more straight forward way using built-in methods."
   ]
  },
  {
   "cell_type": "code",
   "execution_count": 42,
   "metadata": {},
   "outputs": [
    {
     "data": {
      "text/html": [
       "<div>\n",
       "<style scoped>\n",
       "    .dataframe tbody tr th:only-of-type {\n",
       "        vertical-align: middle;\n",
       "    }\n",
       "\n",
       "    .dataframe tbody tr th {\n",
       "        vertical-align: top;\n",
       "    }\n",
       "\n",
       "    .dataframe thead th {\n",
       "        text-align: right;\n",
       "    }\n",
       "</style>\n",
       "<table border=\"1\" class=\"dataframe\">\n",
       "  <thead>\n",
       "    <tr style=\"text-align: right;\">\n",
       "      <th></th>\n",
       "      <th>Open</th>\n",
       "      <th>High</th>\n",
       "      <th>Low</th>\n",
       "      <th>Close</th>\n",
       "      <th>Adj Close</th>\n",
       "      <th>Volume</th>\n",
       "      <th>positive</th>\n",
       "    </tr>\n",
       "    <tr>\n",
       "      <th>wday</th>\n",
       "      <th></th>\n",
       "      <th></th>\n",
       "      <th></th>\n",
       "      <th></th>\n",
       "      <th></th>\n",
       "      <th></th>\n",
       "      <th></th>\n",
       "    </tr>\n",
       "  </thead>\n",
       "  <tbody>\n",
       "    <tr>\n",
       "      <th>0</th>\n",
       "      <td>2440.842010</td>\n",
       "      <td>2455.321464</td>\n",
       "      <td>2425.519058</td>\n",
       "      <td>2442.503994</td>\n",
       "      <td>2442.503994</td>\n",
       "      <td>0.0</td>\n",
       "      <td>0.589474</td>\n",
       "    </tr>\n",
       "    <tr>\n",
       "      <th>1</th>\n",
       "      <td>2445.384592</td>\n",
       "      <td>2461.678828</td>\n",
       "      <td>2428.299915</td>\n",
       "      <td>2445.511004</td>\n",
       "      <td>2445.511004</td>\n",
       "      <td>0.0</td>\n",
       "      <td>0.477477</td>\n",
       "    </tr>\n",
       "    <tr>\n",
       "      <th>2</th>\n",
       "      <td>2446.786429</td>\n",
       "      <td>2464.452593</td>\n",
       "      <td>2429.186787</td>\n",
       "      <td>2445.830087</td>\n",
       "      <td>2445.830087</td>\n",
       "      <td>0.0</td>\n",
       "      <td>0.473214</td>\n",
       "    </tr>\n",
       "    <tr>\n",
       "      <th>3</th>\n",
       "      <td>2445.827283</td>\n",
       "      <td>2463.293009</td>\n",
       "      <td>2425.210918</td>\n",
       "      <td>2445.252714</td>\n",
       "      <td>2445.252714</td>\n",
       "      <td>0.0</td>\n",
       "      <td>0.490909</td>\n",
       "    </tr>\n",
       "    <tr>\n",
       "      <th>4</th>\n",
       "      <td>2445.953007</td>\n",
       "      <td>2462.901369</td>\n",
       "      <td>2427.211006</td>\n",
       "      <td>2446.994172</td>\n",
       "      <td>2446.994172</td>\n",
       "      <td>0.0</td>\n",
       "      <td>0.500000</td>\n",
       "    </tr>\n",
       "  </tbody>\n",
       "</table>\n",
       "</div>"
      ],
      "text/plain": [
       "             Open         High          Low        Close    Adj Close  Volume  \\\n",
       "wday                                                                            \n",
       "0     2440.842010  2455.321464  2425.519058  2442.503994  2442.503994     0.0   \n",
       "1     2445.384592  2461.678828  2428.299915  2445.511004  2445.511004     0.0   \n",
       "2     2446.786429  2464.452593  2429.186787  2445.830087  2445.830087     0.0   \n",
       "3     2445.827283  2463.293009  2425.210918  2445.252714  2445.252714     0.0   \n",
       "4     2445.953007  2462.901369  2427.211006  2446.994172  2446.994172     0.0   \n",
       "\n",
       "      positive  \n",
       "wday            \n",
       "0     0.589474  \n",
       "1     0.477477  \n",
       "2     0.473214  \n",
       "3     0.490909  \n",
       "4     0.500000  "
      ]
     },
     "execution_count": 42,
     "metadata": {},
     "output_type": "execute_result"
    }
   ],
   "source": [
    "russell = russell.assign(wday = russell.Datetime.dt.dayofweek)\n",
    "russell.groupby(['wday']).mean(numeric_only=True)  # rows with nans are not calculated"
   ]
  },
  {
   "cell_type": "markdown",
   "metadata": {},
   "source": [
    "## Database and SQL\n",
    "\n",
    "Beside CSV (or Excel) files, another way to work with data is using databases. From there, data can be accessed using a query language. A very common one for relational databases is **SQL** (**S**tructured **Q**uery **L**anguage). It allows to extract specific records, i.e. records which meet special requirements, from a database using single commands. Structured databases usually include more than one table with data.\n",
    "\n",
    "### Store in Database\n",
    "First, saving a data frame to a database is conveniently done with a built-in method in Pandas. However, to access a database, a connection must first be established and we need to use SQL. In the following, we will use the **sqlite3** package for working with a database. An alternative is given by the **sqlalchemy** package.\n",
    "\n",
    "Let us exampe all table names within the database:"
   ]
  },
  {
   "cell_type": "code",
   "execution_count": 46,
   "metadata": {},
   "outputs": [
    {
     "name": "stdout",
     "output_type": "stream",
     "text": [
      "           name\n",
      "0  company_info\n",
      "1     adj_close\n",
      "2          high\n",
      "3           low\n",
      "4        volume\n"
     ]
    }
   ],
   "source": [
    "import sqlite3\n",
    "\n",
    "conn = sqlite3.connect(\"../data/nasdaq_nyse_amex_with_sec_info.sqlite\")\n",
    "table_names = pd.read_sql(\"SELECT name FROM sqlite_master WHERE type='table';\", conn)\n",
    "conn.close()\n",
    "print(table_names)"
   ]
  },
  {
   "cell_type": "markdown",
   "metadata": {},
   "source": [
    "Now, let us examine a table, e.g., the *company_info*. To get a first impression, we can use the ```pd.read_sql``` method and grab the first five observations. This shows us the columns names and provides a first impression of the data. To do so, a query can be sent to get the required data from the database to a dataframe.\n",
    "By convention, SQL is written in all CAPS, even though this is not required for the statement to work.\n",
    "\n",
    "To select all columns from a table, the wildcard character ```*``` is used. The syntax is ```SELECT <col1>, <col2> FROM <table>```. The ```LIMIT 5``` limits data retrieval to the first five observations. Omit this if you want to grab all data."
   ]
  },
  {
   "cell_type": "code",
   "execution_count": 55,
   "metadata": {},
   "outputs": [
    {
     "data": {
      "text/html": [
       "<div>\n",
       "<style scoped>\n",
       "    .dataframe tbody tr th:only-of-type {\n",
       "        vertical-align: middle;\n",
       "    }\n",
       "\n",
       "    .dataframe tbody tr th {\n",
       "        vertical-align: top;\n",
       "    }\n",
       "\n",
       "    .dataframe thead th {\n",
       "        text-align: right;\n",
       "    }\n",
       "</style>\n",
       "<table border=\"1\" class=\"dataframe\">\n",
       "  <thead>\n",
       "    <tr style=\"text-align: right;\">\n",
       "      <th></th>\n",
       "      <th>Symbol</th>\n",
       "      <th>Name</th>\n",
       "      <th>Market Cap</th>\n",
       "      <th>IPO Year</th>\n",
       "      <th>Volume</th>\n",
       "      <th>Sector</th>\n",
       "      <th>Industry</th>\n",
       "      <th>cik</th>\n",
       "      <th>ticker</th>\n",
       "      <th>title</th>\n",
       "      <th>as_of_date</th>\n",
       "    </tr>\n",
       "    <tr>\n",
       "      <th>index</th>\n",
       "      <th></th>\n",
       "      <th></th>\n",
       "      <th></th>\n",
       "      <th></th>\n",
       "      <th></th>\n",
       "      <th></th>\n",
       "      <th></th>\n",
       "      <th></th>\n",
       "      <th></th>\n",
       "      <th></th>\n",
       "      <th></th>\n",
       "    </tr>\n",
       "  </thead>\n",
       "  <tbody>\n",
       "    <tr>\n",
       "      <th>0</th>\n",
       "      <td>AACG</td>\n",
       "      <td>ATA Creativity Global American Depositary Shares</td>\n",
       "      <td>4.237371e+07</td>\n",
       "      <td>2008.0</td>\n",
       "      <td>6388</td>\n",
       "      <td>Real Estate</td>\n",
       "      <td>Other Consumer Services</td>\n",
       "      <td>0001420529</td>\n",
       "      <td>AACG</td>\n",
       "      <td>ATA Creativity Global</td>\n",
       "      <td>2024-02-22 19:35:15.357874</td>\n",
       "    </tr>\n",
       "    <tr>\n",
       "      <th>2</th>\n",
       "      <td>AADI</td>\n",
       "      <td>Aadi Bioscience Inc. Common Stock</td>\n",
       "      <td>4.586336e+07</td>\n",
       "      <td>NaN</td>\n",
       "      <td>147594</td>\n",
       "      <td>Health Care</td>\n",
       "      <td>Biotechnology: Pharmaceutical Preparations</td>\n",
       "      <td>0001422142</td>\n",
       "      <td>AADI</td>\n",
       "      <td>Aadi Bioscience, Inc.</td>\n",
       "      <td>2024-02-22 19:35:15.357874</td>\n",
       "    </tr>\n",
       "    <tr>\n",
       "      <th>3</th>\n",
       "      <td>AAGR</td>\n",
       "      <td>African Agriculture Holdings Inc. Common Stock</td>\n",
       "      <td>2.012500e+07</td>\n",
       "      <td>2021.0</td>\n",
       "      <td>56344</td>\n",
       "      <td>Finance</td>\n",
       "      <td>Finance: Consumer Services</td>\n",
       "      <td>0001848898</td>\n",
       "      <td>AAGR</td>\n",
       "      <td>African Agriculture Holdings Inc.</td>\n",
       "      <td>2024-02-22 19:35:15.357874</td>\n",
       "    </tr>\n",
       "    <tr>\n",
       "      <th>4</th>\n",
       "      <td>AAL</td>\n",
       "      <td>American Airlines Group Inc. Common Stock</td>\n",
       "      <td>9.665880e+09</td>\n",
       "      <td>NaN</td>\n",
       "      <td>23032392</td>\n",
       "      <td>Consumer Discretionary</td>\n",
       "      <td>Air Freight/Delivery Services</td>\n",
       "      <td>0000006201</td>\n",
       "      <td>AAL</td>\n",
       "      <td>American Airlines Group Inc.</td>\n",
       "      <td>2024-02-22 19:35:15.357874</td>\n",
       "    </tr>\n",
       "    <tr>\n",
       "      <th>5</th>\n",
       "      <td>AAME</td>\n",
       "      <td>Atlantic American Corporation Common Stock</td>\n",
       "      <td>5.263790e+07</td>\n",
       "      <td>NaN</td>\n",
       "      <td>1520</td>\n",
       "      <td>Finance</td>\n",
       "      <td>Life Insurance</td>\n",
       "      <td>0000008177</td>\n",
       "      <td>AAME</td>\n",
       "      <td>ATLANTIC AMERICAN CORP</td>\n",
       "      <td>2024-02-22 19:35:15.357874</td>\n",
       "    </tr>\n",
       "  </tbody>\n",
       "</table>\n",
       "</div>"
      ],
      "text/plain": [
       "      Symbol                                              Name    Market Cap  \\\n",
       "index                                                                          \n",
       "0       AACG  ATA Creativity Global American Depositary Shares  4.237371e+07   \n",
       "2       AADI                 Aadi Bioscience Inc. Common Stock  4.586336e+07   \n",
       "3       AAGR    African Agriculture Holdings Inc. Common Stock  2.012500e+07   \n",
       "4        AAL         American Airlines Group Inc. Common Stock  9.665880e+09   \n",
       "5       AAME        Atlantic American Corporation Common Stock  5.263790e+07   \n",
       "\n",
       "       IPO Year    Volume                  Sector  \\\n",
       "index                                               \n",
       "0        2008.0      6388             Real Estate   \n",
       "2           NaN    147594             Health Care   \n",
       "3        2021.0     56344                 Finance   \n",
       "4           NaN  23032392  Consumer Discretionary   \n",
       "5           NaN      1520                 Finance   \n",
       "\n",
       "                                         Industry         cik ticker  \\\n",
       "index                                                                  \n",
       "0                         Other Consumer Services  0001420529   AACG   \n",
       "2      Biotechnology: Pharmaceutical Preparations  0001422142   AADI   \n",
       "3                      Finance: Consumer Services  0001848898   AAGR   \n",
       "4                   Air Freight/Delivery Services  0000006201    AAL   \n",
       "5                                  Life Insurance  0000008177   AAME   \n",
       "\n",
       "                                   title                  as_of_date  \n",
       "index                                                                 \n",
       "0                  ATA Creativity Global  2024-02-22 19:35:15.357874  \n",
       "2                  Aadi Bioscience, Inc.  2024-02-22 19:35:15.357874  \n",
       "3      African Agriculture Holdings Inc.  2024-02-22 19:35:15.357874  \n",
       "4           American Airlines Group Inc.  2024-02-22 19:35:15.357874  \n",
       "5                 ATLANTIC AMERICAN CORP  2024-02-22 19:35:15.357874  "
      ]
     },
     "execution_count": 55,
     "metadata": {},
     "output_type": "execute_result"
    }
   ],
   "source": [
    "conn = sqlite3.connect(\"../data/nasdaq_nyse_amex_with_sec_info.sqlite\")\n",
    "df = pd.read_sql(\"SELECT * FROM company_info LIMIT 5;\", conn, index_col=\"index\")\n",
    "conn.close()\n",
    "df"
   ]
  },
  {
   "cell_type": "markdown",
   "metadata": {},
   "source": [
    "We could also do this without the pandas method."
   ]
  },
  {
   "cell_type": "code",
   "execution_count": 58,
   "metadata": {},
   "outputs": [
    {
     "data": {
      "text/plain": [
       "[(0,\n",
       "  'AACG',\n",
       "  'ATA Creativity Global American Depositary Shares',\n",
       "  42373708.0,\n",
       "  2008.0,\n",
       "  6388,\n",
       "  'Real Estate',\n",
       "  'Other Consumer Services',\n",
       "  '0001420529',\n",
       "  'AACG',\n",
       "  'ATA Creativity Global',\n",
       "  '2024-02-22 19:35:15.357874'),\n",
       " (2,\n",
       "  'AADI',\n",
       "  'Aadi Bioscience Inc. Common Stock',\n",
       "  45863358.0,\n",
       "  None,\n",
       "  147594,\n",
       "  'Health Care',\n",
       "  'Biotechnology: Pharmaceutical Preparations',\n",
       "  '0001422142',\n",
       "  'AADI',\n",
       "  'Aadi Bioscience, Inc.',\n",
       "  '2024-02-22 19:35:15.357874'),\n",
       " (3,\n",
       "  'AAGR',\n",
       "  'African Agriculture Holdings Inc. Common Stock',\n",
       "  20125000.0,\n",
       "  2021.0,\n",
       "  56344,\n",
       "  'Finance',\n",
       "  'Finance: Consumer Services',\n",
       "  '0001848898',\n",
       "  'AAGR',\n",
       "  'African Agriculture Holdings Inc.',\n",
       "  '2024-02-22 19:35:15.357874'),\n",
       " (4,\n",
       "  'AAL',\n",
       "  'American Airlines Group Inc. Common Stock',\n",
       "  9665879525.0,\n",
       "  None,\n",
       "  23032392,\n",
       "  'Consumer Discretionary',\n",
       "  'Air Freight/Delivery Services',\n",
       "  '0000006201',\n",
       "  'AAL',\n",
       "  'American Airlines Group Inc.',\n",
       "  '2024-02-22 19:35:15.357874'),\n",
       " (5,\n",
       "  'AAME',\n",
       "  'Atlantic American Corporation Common Stock',\n",
       "  52637903.0,\n",
       "  None,\n",
       "  1520,\n",
       "  'Finance',\n",
       "  'Life Insurance',\n",
       "  '0000008177',\n",
       "  'AAME',\n",
       "  'ATLANTIC AMERICAN CORP',\n",
       "  '2024-02-22 19:35:15.357874')]"
      ]
     },
     "execution_count": 58,
     "metadata": {},
     "output_type": "execute_result"
    }
   ],
   "source": [
    "conn = sqlite3.connect(\"../data/nasdaq_nyse_amex_with_sec_info.sqlite\")\n",
    "retrieval = out = conn.execute(\"SELECT * FROM company_info LIMIT 5;\")\n",
    "out = retrieval.fetchall()\n",
    "conn.close()\n",
    "out"
   ]
  },
  {
   "cell_type": "markdown",
   "metadata": {},
   "source": [
    "To select specific columns only, the can be listed, separated by a comma."
   ]
  },
  {
   "cell_type": "code",
   "execution_count": 62,
   "metadata": {},
   "outputs": [
    {
     "data": {
      "text/html": [
       "<div>\n",
       "<style scoped>\n",
       "    .dataframe tbody tr th:only-of-type {\n",
       "        vertical-align: middle;\n",
       "    }\n",
       "\n",
       "    .dataframe tbody tr th {\n",
       "        vertical-align: top;\n",
       "    }\n",
       "\n",
       "    .dataframe thead th {\n",
       "        text-align: right;\n",
       "    }\n",
       "</style>\n",
       "<table border=\"1\" class=\"dataframe\">\n",
       "  <thead>\n",
       "    <tr style=\"text-align: right;\">\n",
       "      <th></th>\n",
       "      <th>Symbol</th>\n",
       "      <th>Name</th>\n",
       "      <th>Sector</th>\n",
       "    </tr>\n",
       "  </thead>\n",
       "  <tbody>\n",
       "    <tr>\n",
       "      <th>0</th>\n",
       "      <td>AACG</td>\n",
       "      <td>ATA Creativity Global American Depositary Shares</td>\n",
       "      <td>Real Estate</td>\n",
       "    </tr>\n",
       "    <tr>\n",
       "      <th>1</th>\n",
       "      <td>AADI</td>\n",
       "      <td>Aadi Bioscience Inc. Common Stock</td>\n",
       "      <td>Health Care</td>\n",
       "    </tr>\n",
       "    <tr>\n",
       "      <th>2</th>\n",
       "      <td>AAGR</td>\n",
       "      <td>African Agriculture Holdings Inc. Common Stock</td>\n",
       "      <td>Finance</td>\n",
       "    </tr>\n",
       "    <tr>\n",
       "      <th>3</th>\n",
       "      <td>AAL</td>\n",
       "      <td>American Airlines Group Inc. Common Stock</td>\n",
       "      <td>Consumer Discretionary</td>\n",
       "    </tr>\n",
       "    <tr>\n",
       "      <th>4</th>\n",
       "      <td>AAME</td>\n",
       "      <td>Atlantic American Corporation Common Stock</td>\n",
       "      <td>Finance</td>\n",
       "    </tr>\n",
       "  </tbody>\n",
       "</table>\n",
       "</div>"
      ],
      "text/plain": [
       "  Symbol                                              Name  \\\n",
       "0   AACG  ATA Creativity Global American Depositary Shares   \n",
       "1   AADI                 Aadi Bioscience Inc. Common Stock   \n",
       "2   AAGR    African Agriculture Holdings Inc. Common Stock   \n",
       "3    AAL         American Airlines Group Inc. Common Stock   \n",
       "4   AAME        Atlantic American Corporation Common Stock   \n",
       "\n",
       "                   Sector  \n",
       "0             Real Estate  \n",
       "1             Health Care  \n",
       "2                 Finance  \n",
       "3  Consumer Discretionary  \n",
       "4                 Finance  "
      ]
     },
     "execution_count": 62,
     "metadata": {},
     "output_type": "execute_result"
    }
   ],
   "source": [
    "conn = sqlite3.connect(\"../data/nasdaq_nyse_amex_with_sec_info.sqlite\")\n",
    "df = pd.read_sql(\"SELECT Symbol, Name, Sector FROM company_info LIMIT 5;\", conn)\n",
    "conn.close()\n",
    "df"
   ]
  },
  {
   "cell_type": "markdown",
   "metadata": {},
   "source": [
    "The dataset can be filtered before being loaded into a dataframe. To pose restrictions on the import of records, use ```WHERE``` after the table name."
   ]
  },
  {
   "cell_type": "code",
   "execution_count": 65,
   "metadata": {},
   "outputs": [
    {
     "data": {
      "text/html": [
       "<div>\n",
       "<style scoped>\n",
       "    .dataframe tbody tr th:only-of-type {\n",
       "        vertical-align: middle;\n",
       "    }\n",
       "\n",
       "    .dataframe tbody tr th {\n",
       "        vertical-align: top;\n",
       "    }\n",
       "\n",
       "    .dataframe thead th {\n",
       "        text-align: right;\n",
       "    }\n",
       "</style>\n",
       "<table border=\"1\" class=\"dataframe\">\n",
       "  <thead>\n",
       "    <tr style=\"text-align: right;\">\n",
       "      <th></th>\n",
       "      <th>Symbol</th>\n",
       "      <th>Name</th>\n",
       "      <th>Market Cap</th>\n",
       "      <th>IPO Year</th>\n",
       "      <th>Volume</th>\n",
       "      <th>Sector</th>\n",
       "      <th>Industry</th>\n",
       "      <th>cik</th>\n",
       "      <th>ticker</th>\n",
       "      <th>title</th>\n",
       "      <th>as_of_date</th>\n",
       "    </tr>\n",
       "    <tr>\n",
       "      <th>index</th>\n",
       "      <th></th>\n",
       "      <th></th>\n",
       "      <th></th>\n",
       "      <th></th>\n",
       "      <th></th>\n",
       "      <th></th>\n",
       "      <th></th>\n",
       "      <th></th>\n",
       "      <th></th>\n",
       "      <th></th>\n",
       "      <th></th>\n",
       "    </tr>\n",
       "  </thead>\n",
       "  <tbody>\n",
       "    <tr>\n",
       "      <th>2</th>\n",
       "      <td>AADI</td>\n",
       "      <td>Aadi Bioscience Inc. Common Stock</td>\n",
       "      <td>4.586336e+07</td>\n",
       "      <td>NaN</td>\n",
       "      <td>147594</td>\n",
       "      <td>Health Care</td>\n",
       "      <td>Biotechnology: Pharmaceutical Preparations</td>\n",
       "      <td>0001422142</td>\n",
       "      <td>AADI</td>\n",
       "      <td>Aadi Bioscience, Inc.</td>\n",
       "      <td>2024-02-22 19:35:15.357874</td>\n",
       "    </tr>\n",
       "    <tr>\n",
       "      <th>3</th>\n",
       "      <td>AAGR</td>\n",
       "      <td>African Agriculture Holdings Inc. Common Stock</td>\n",
       "      <td>2.012500e+07</td>\n",
       "      <td>2021.0</td>\n",
       "      <td>56344</td>\n",
       "      <td>Finance</td>\n",
       "      <td>Finance: Consumer Services</td>\n",
       "      <td>0001848898</td>\n",
       "      <td>AAGR</td>\n",
       "      <td>African Agriculture Holdings Inc.</td>\n",
       "      <td>2024-02-22 19:35:15.357874</td>\n",
       "    </tr>\n",
       "    <tr>\n",
       "      <th>4</th>\n",
       "      <td>AAL</td>\n",
       "      <td>American Airlines Group Inc. Common Stock</td>\n",
       "      <td>9.665880e+09</td>\n",
       "      <td>NaN</td>\n",
       "      <td>23032392</td>\n",
       "      <td>Consumer Discretionary</td>\n",
       "      <td>Air Freight/Delivery Services</td>\n",
       "      <td>0000006201</td>\n",
       "      <td>AAL</td>\n",
       "      <td>American Airlines Group Inc.</td>\n",
       "      <td>2024-02-22 19:35:15.357874</td>\n",
       "    </tr>\n",
       "    <tr>\n",
       "      <th>6</th>\n",
       "      <td>AAOI</td>\n",
       "      <td>Applied Optoelectronics Inc. Common Stock</td>\n",
       "      <td>6.819469e+08</td>\n",
       "      <td>2013.0</td>\n",
       "      <td>2534547</td>\n",
       "      <td>Technology</td>\n",
       "      <td>Semiconductors</td>\n",
       "      <td>0001158114</td>\n",
       "      <td>AAOI</td>\n",
       "      <td>APPLIED OPTOELECTRONICS, INC.</td>\n",
       "      <td>2024-02-22 19:35:15.357874</td>\n",
       "    </tr>\n",
       "    <tr>\n",
       "      <th>7</th>\n",
       "      <td>AAON</td>\n",
       "      <td>AAON Inc. Common Stock</td>\n",
       "      <td>6.654766e+09</td>\n",
       "      <td>NaN</td>\n",
       "      <td>396290</td>\n",
       "      <td>Industrials</td>\n",
       "      <td>Industrial Machinery/Components</td>\n",
       "      <td>0000824142</td>\n",
       "      <td>AAON</td>\n",
       "      <td>AAON, INC.</td>\n",
       "      <td>2024-02-22 19:35:15.357874</td>\n",
       "    </tr>\n",
       "  </tbody>\n",
       "</table>\n",
       "</div>"
      ],
      "text/plain": [
       "      Symbol                                            Name    Market Cap  \\\n",
       "index                                                                        \n",
       "2       AADI               Aadi Bioscience Inc. Common Stock  4.586336e+07   \n",
       "3       AAGR  African Agriculture Holdings Inc. Common Stock  2.012500e+07   \n",
       "4        AAL       American Airlines Group Inc. Common Stock  9.665880e+09   \n",
       "6       AAOI       Applied Optoelectronics Inc. Common Stock  6.819469e+08   \n",
       "7       AAON                          AAON Inc. Common Stock  6.654766e+09   \n",
       "\n",
       "       IPO Year    Volume                  Sector  \\\n",
       "index                                               \n",
       "2           NaN    147594             Health Care   \n",
       "3        2021.0     56344                 Finance   \n",
       "4           NaN  23032392  Consumer Discretionary   \n",
       "6        2013.0   2534547              Technology   \n",
       "7           NaN    396290             Industrials   \n",
       "\n",
       "                                         Industry         cik ticker  \\\n",
       "index                                                                  \n",
       "2      Biotechnology: Pharmaceutical Preparations  0001422142   AADI   \n",
       "3                      Finance: Consumer Services  0001848898   AAGR   \n",
       "4                   Air Freight/Delivery Services  0000006201    AAL   \n",
       "6                                  Semiconductors  0001158114   AAOI   \n",
       "7                 Industrial Machinery/Components  0000824142   AAON   \n",
       "\n",
       "                                   title                  as_of_date  \n",
       "index                                                                 \n",
       "2                  Aadi Bioscience, Inc.  2024-02-22 19:35:15.357874  \n",
       "3      African Agriculture Holdings Inc.  2024-02-22 19:35:15.357874  \n",
       "4           American Airlines Group Inc.  2024-02-22 19:35:15.357874  \n",
       "6          APPLIED OPTOELECTRONICS, INC.  2024-02-22 19:35:15.357874  \n",
       "7                             AAON, INC.  2024-02-22 19:35:15.357874  "
      ]
     },
     "execution_count": 65,
     "metadata": {},
     "output_type": "execute_result"
    }
   ],
   "source": [
    "conn = sqlite3.connect(\"../data/nasdaq_nyse_amex_with_sec_info.sqlite\")\n",
    "df = pd.read_sql(\"SELECT * FROM company_info WHERE Volume > 10000 LIMIT 5;\", conn, index_col=\"index\")\n",
    "conn.close()\n",
    "df"
   ]
  },
  {
   "cell_type": "markdown",
   "metadata": {},
   "source": [
    "Only some of the other functions and commands will be shown, for a quick overview, see [this collection](https://www.sqltutorial.org/sql-cheat-sheet/)."
   ]
  },
  {
   "cell_type": "code",
   "execution_count": 72,
   "metadata": {},
   "outputs": [
    {
     "data": {
      "text/html": [
       "<div>\n",
       "<style scoped>\n",
       "    .dataframe tbody tr th:only-of-type {\n",
       "        vertical-align: middle;\n",
       "    }\n",
       "\n",
       "    .dataframe tbody tr th {\n",
       "        vertical-align: top;\n",
       "    }\n",
       "\n",
       "    .dataframe thead th {\n",
       "        text-align: right;\n",
       "    }\n",
       "</style>\n",
       "<table border=\"1\" class=\"dataframe\">\n",
       "  <thead>\n",
       "    <tr style=\"text-align: right;\">\n",
       "      <th></th>\n",
       "      <th>AVG(Volume)</th>\n",
       "      <th>Industry</th>\n",
       "    </tr>\n",
       "  </thead>\n",
       "  <tbody>\n",
       "    <tr>\n",
       "      <th>0</th>\n",
       "      <td>1.403728e+06</td>\n",
       "      <td>None</td>\n",
       "    </tr>\n",
       "    <tr>\n",
       "      <th>1</th>\n",
       "      <td>2.720737e+06</td>\n",
       "      <td>Medicinal Chemicals and Botanical Products</td>\n",
       "    </tr>\n",
       "    <tr>\n",
       "      <th>2</th>\n",
       "      <td>1.233463e+06</td>\n",
       "      <td>Accident &amp;Health Insurance</td>\n",
       "    </tr>\n",
       "    <tr>\n",
       "      <th>3</th>\n",
       "      <td>5.889360e+05</td>\n",
       "      <td>Advertising</td>\n",
       "    </tr>\n",
       "    <tr>\n",
       "      <th>4</th>\n",
       "      <td>1.821394e+06</td>\n",
       "      <td>Aerospace</td>\n",
       "    </tr>\n",
       "    <tr>\n",
       "      <th>5</th>\n",
       "      <td>1.210042e+06</td>\n",
       "      <td>Agricultural Chemicals</td>\n",
       "    </tr>\n",
       "    <tr>\n",
       "      <th>6</th>\n",
       "      <td>3.422119e+06</td>\n",
       "      <td>Air Freight/Delivery Services</td>\n",
       "    </tr>\n",
       "    <tr>\n",
       "      <th>7</th>\n",
       "      <td>3.464666e+06</td>\n",
       "      <td>Aluminum</td>\n",
       "    </tr>\n",
       "    <tr>\n",
       "      <th>8</th>\n",
       "      <td>1.276154e+06</td>\n",
       "      <td>Apparel</td>\n",
       "    </tr>\n",
       "    <tr>\n",
       "      <th>9</th>\n",
       "      <td>1.671326e+06</td>\n",
       "      <td>Assisted Living Services</td>\n",
       "    </tr>\n",
       "  </tbody>\n",
       "</table>\n",
       "</div>"
      ],
      "text/plain": [
       "    AVG(Volume)                                      Industry\n",
       "0  1.403728e+06                                          None\n",
       "1  2.720737e+06   Medicinal Chemicals and Botanical Products \n",
       "2  1.233463e+06                    Accident &Health Insurance\n",
       "3  5.889360e+05                                   Advertising\n",
       "4  1.821394e+06                                     Aerospace\n",
       "5  1.210042e+06                        Agricultural Chemicals\n",
       "6  3.422119e+06                 Air Freight/Delivery Services\n",
       "7  3.464666e+06                                      Aluminum\n",
       "8  1.276154e+06                                       Apparel\n",
       "9  1.671326e+06                      Assisted Living Services"
      ]
     },
     "execution_count": 72,
     "metadata": {},
     "output_type": "execute_result"
    }
   ],
   "source": [
    "conn = sqlite3.connect(\"../data/nasdaq_nyse_amex_with_sec_info.sqlite\")\n",
    "df = pd.read_sql(\"SELECT AVG(Volume), Industry FROM company_info GROUP BY Industry;\", conn)\n",
    "conn.close()\n",
    "df.head(10)"
   ]
  },
  {
   "cell_type": "code",
   "execution_count": 74,
   "metadata": {},
   "outputs": [
    {
     "data": {
      "text/html": [
       "<div>\n",
       "<style scoped>\n",
       "    .dataframe tbody tr th:only-of-type {\n",
       "        vertical-align: middle;\n",
       "    }\n",
       "\n",
       "    .dataframe tbody tr th {\n",
       "        vertical-align: top;\n",
       "    }\n",
       "\n",
       "    .dataframe thead th {\n",
       "        text-align: right;\n",
       "    }\n",
       "</style>\n",
       "<table border=\"1\" class=\"dataframe\">\n",
       "  <thead>\n",
       "    <tr style=\"text-align: right;\">\n",
       "      <th></th>\n",
       "      <th>COUNT(*)</th>\n",
       "      <th>Industry</th>\n",
       "    </tr>\n",
       "  </thead>\n",
       "  <tbody>\n",
       "    <tr>\n",
       "      <th>0</th>\n",
       "      <td>232</td>\n",
       "      <td>None</td>\n",
       "    </tr>\n",
       "    <tr>\n",
       "      <th>1</th>\n",
       "      <td>62</td>\n",
       "      <td>Medicinal Chemicals and Botanical Products</td>\n",
       "    </tr>\n",
       "    <tr>\n",
       "      <th>2</th>\n",
       "      <td>7</td>\n",
       "      <td>Accident &amp;Health Insurance</td>\n",
       "    </tr>\n",
       "    <tr>\n",
       "      <th>3</th>\n",
       "      <td>29</td>\n",
       "      <td>Advertising</td>\n",
       "    </tr>\n",
       "    <tr>\n",
       "      <th>4</th>\n",
       "      <td>25</td>\n",
       "      <td>Aerospace</td>\n",
       "    </tr>\n",
       "    <tr>\n",
       "      <th>5</th>\n",
       "      <td>13</td>\n",
       "      <td>Agricultural Chemicals</td>\n",
       "    </tr>\n",
       "    <tr>\n",
       "      <th>6</th>\n",
       "      <td>21</td>\n",
       "      <td>Air Freight/Delivery Services</td>\n",
       "    </tr>\n",
       "    <tr>\n",
       "      <th>7</th>\n",
       "      <td>2</td>\n",
       "      <td>Aluminum</td>\n",
       "    </tr>\n",
       "    <tr>\n",
       "      <th>8</th>\n",
       "      <td>25</td>\n",
       "      <td>Apparel</td>\n",
       "    </tr>\n",
       "    <tr>\n",
       "      <th>9</th>\n",
       "      <td>1</td>\n",
       "      <td>Assisted Living Services</td>\n",
       "    </tr>\n",
       "  </tbody>\n",
       "</table>\n",
       "</div>"
      ],
      "text/plain": [
       "   COUNT(*)                                      Industry\n",
       "0       232                                          None\n",
       "1        62   Medicinal Chemicals and Botanical Products \n",
       "2         7                    Accident &Health Insurance\n",
       "3        29                                   Advertising\n",
       "4        25                                     Aerospace\n",
       "5        13                        Agricultural Chemicals\n",
       "6        21                 Air Freight/Delivery Services\n",
       "7         2                                      Aluminum\n",
       "8        25                                       Apparel\n",
       "9         1                      Assisted Living Services"
      ]
     },
     "execution_count": 74,
     "metadata": {},
     "output_type": "execute_result"
    }
   ],
   "source": [
    "conn = sqlite3.connect(\"../data/nasdaq_nyse_amex_with_sec_info.sqlite\")\n",
    "df = pd.read_sql(\"SELECT COUNT(*), Industry FROM company_info GROUP BY Industry;\", conn)\n",
    "conn.close()\n",
    "df.head(10)"
   ]
  },
  {
   "cell_type": "markdown",
   "metadata": {},
   "source": [
    "In order to automatically close connections after import or export, python offers the so-called *connection manager*. Usually, it is called with the keyword ```with``` and a variable after ```as```. The connection is only active in the indented block afterwards and is closed when leaving this body of the context manager."
   ]
  },
  {
   "cell_type": "code",
   "execution_count": 75,
   "metadata": {},
   "outputs": [
    {
     "data": {
      "text/html": [
       "<div>\n",
       "<style scoped>\n",
       "    .dataframe tbody tr th:only-of-type {\n",
       "        vertical-align: middle;\n",
       "    }\n",
       "\n",
       "    .dataframe tbody tr th {\n",
       "        vertical-align: top;\n",
       "    }\n",
       "\n",
       "    .dataframe thead th {\n",
       "        text-align: right;\n",
       "    }\n",
       "</style>\n",
       "<table border=\"1\" class=\"dataframe\">\n",
       "  <thead>\n",
       "    <tr style=\"text-align: right;\">\n",
       "      <th></th>\n",
       "      <th>COUNT(*)</th>\n",
       "      <th>Industry</th>\n",
       "    </tr>\n",
       "  </thead>\n",
       "  <tbody>\n",
       "    <tr>\n",
       "      <th>0</th>\n",
       "      <td>232</td>\n",
       "      <td>None</td>\n",
       "    </tr>\n",
       "    <tr>\n",
       "      <th>1</th>\n",
       "      <td>62</td>\n",
       "      <td>Medicinal Chemicals and Botanical Products</td>\n",
       "    </tr>\n",
       "    <tr>\n",
       "      <th>2</th>\n",
       "      <td>7</td>\n",
       "      <td>Accident &amp;Health Insurance</td>\n",
       "    </tr>\n",
       "    <tr>\n",
       "      <th>3</th>\n",
       "      <td>29</td>\n",
       "      <td>Advertising</td>\n",
       "    </tr>\n",
       "    <tr>\n",
       "      <th>4</th>\n",
       "      <td>25</td>\n",
       "      <td>Aerospace</td>\n",
       "    </tr>\n",
       "    <tr>\n",
       "      <th>5</th>\n",
       "      <td>13</td>\n",
       "      <td>Agricultural Chemicals</td>\n",
       "    </tr>\n",
       "    <tr>\n",
       "      <th>6</th>\n",
       "      <td>21</td>\n",
       "      <td>Air Freight/Delivery Services</td>\n",
       "    </tr>\n",
       "    <tr>\n",
       "      <th>7</th>\n",
       "      <td>2</td>\n",
       "      <td>Aluminum</td>\n",
       "    </tr>\n",
       "    <tr>\n",
       "      <th>8</th>\n",
       "      <td>25</td>\n",
       "      <td>Apparel</td>\n",
       "    </tr>\n",
       "    <tr>\n",
       "      <th>9</th>\n",
       "      <td>1</td>\n",
       "      <td>Assisted Living Services</td>\n",
       "    </tr>\n",
       "  </tbody>\n",
       "</table>\n",
       "</div>"
      ],
      "text/plain": [
       "   COUNT(*)                                      Industry\n",
       "0       232                                          None\n",
       "1        62   Medicinal Chemicals and Botanical Products \n",
       "2         7                    Accident &Health Insurance\n",
       "3        29                                   Advertising\n",
       "4        25                                     Aerospace\n",
       "5        13                        Agricultural Chemicals\n",
       "6        21                 Air Freight/Delivery Services\n",
       "7         2                                      Aluminum\n",
       "8        25                                       Apparel\n",
       "9         1                      Assisted Living Services"
      ]
     },
     "execution_count": 75,
     "metadata": {},
     "output_type": "execute_result"
    }
   ],
   "source": [
    "with sqlite3.connect(\"../data/nasdaq_nyse_amex_with_sec_info.sqlite\") as conn:\n",
    "    df = pd.read_sql(\"SELECT COUNT(*), Industry FROM company_info GROUP BY Industry;\", conn)\n",
    "df.head(10)"
   ]
  }
 ],
 "metadata": {
  "kernelspec": {
   "display_name": ".venv",
   "language": "python",
   "name": "python3"
  },
  "language_info": {
   "codemirror_mode": {
    "name": "ipython",
    "version": 3
   },
   "file_extension": ".py",
   "mimetype": "text/x-python",
   "name": "python",
   "nbconvert_exporter": "python",
   "pygments_lexer": "ipython3",
   "version": "3.11.7"
  }
 },
 "nbformat": 4,
 "nbformat_minor": 2
}
