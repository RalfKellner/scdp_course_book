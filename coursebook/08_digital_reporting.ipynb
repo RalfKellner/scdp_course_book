{
 "cells": [
  {
   "cell_type": "markdown",
   "metadata": {},
   "source": [
    "# Digital reporting\n",
    "\n",
    "This chapter is about how to share python code and the outcome of your analyses with others. While there are possibilities to convert notebooks to conventional documents such as pdf, we are going to focus on online platforms. In my opinion the best ways to share your work are given by code hosting platforms such as github and by interactive web applications.  This is why we take a look at git, github and streamlit in this chapter.\n",
    "\n",
    "## Git and Github\n",
    "\n",
    "Git is a popular version control system created by Linus Torvalds in 2005. It is used for tracking code changes. Git manages projects by *repositories* and can be used for cooperative work. Once they are initialized, repositories act as a central hub for your project's files, allowing team members to collaborate effectively without stepping on each other's toes. Of course, a team can also only consist of one person, you. To work locally, you create a local copy of the project on your own machine by cloning. This is your personal workspace where you can make changes without affecting the main project. It's like having your own sandbox to build and experiment in, ensuring that your initial trials and errors don't disrupt the overall project flow.\n",
    "\n",
    "Once you've made changes in your local copy, the next step involves controlling and tracking these modifications. This is where staging and committing come into play. Staging allows you to select which changes you wish to mark as ready for a commit. Think of it as preparing a list of items you're about to check out at a store. Committing is the act of finalizing this list, essentially saying, \"These changes are good to go.\" It's a snapshot of your work at a specific point in time, making it easier to track progress and revert changes if necessary.\n",
    "\n",
    "However, projects are seldom a straight path. They branch out, requiring simultaneous development on different features or versions. This is where branching and merging become invaluable. By creating branches, you can work in isolation from the main project line, allowing for experimentation and development without risking the stability of the main project. Merging, on the other hand, is how you reintegrate these divergent paths, combining the fruits of separate labors into a single, cohesive project.\n",
    "\n",
    "As the project evolves, staying updated is crucial. Pulling is the process of fetching the latest version of the project from the repository and merging it with your local copy. This ensures that you're always working with the most recent information, reducing the likelihood of conflicts and redundancies.\n",
    "\n",
    "Finally, after diligent work on your part, comes the moment to share your contributions with the team. Pushing is how you upload your local updates to the main project, offering your improvements for others to use and build upon. It's the culmination of your effort, a way to visibly advance the project and collaborate effectively with your peers.\n",
    "\n",
    "Git should not be mistaken with [Github](https://github.com/) which utilizes git. GitHub is a powerful and widely used platform for version control and collaboration, allowing developers from around the world to work together on projects of all sizes.\n",
    "\n",
    "GitHub was launched in 2008 by Tom Preston-Werner, Chris Wanstrath, and PJ Hyett. The platform was created to facilitate the sharing and development of code, enabling developers to collaborate on projects without being hindered by geographical constraints. Its primary aim is to streamline the process of coding, review, and software development, making it accessible and manageable for developers of all skill levels.\n",
    "\n",
    "The key features of Github are:\n",
    "\n",
    "* Repositories: At the heart of GitHub are repositories, which are essentially folders containing a project's files along with the history of changes made to those files. Repositories can be public or private, supporting both open-source projects and confidential business work.\n",
    "* Forking and Cloning: GitHub allows users to fork (copy) repositories, enabling them to make changes without affecting the original project. Cloning gives developers a local copy of a repository to work on, providing flexibility in how and where they code.\n",
    "Branching and Merging: These features facilitate the development of new features or testing out ideas in separate branches from the main project. Merging allows for the integration of these changes into the main project after proper review and testing.\n",
    "* Pull Requests: A key collaboration feature, pull requests let developers notify team members about changes they've pushed to a branch in a repository. This opens up a platform for discussion, review, and eventually merging those changes into the main branch.\n",
    "Issues and Tracking: GitHub provides tools for tracking issues and tasks related to a project. Users can create, assign, and comment on issues, making it easier to manage project milestones and bugs.\n",
    "\n",
    "Finally, note that git can be used without github, however, it does not work the other way around. Nevertheless, most people use both. In the next subchapter, we go through some basic steps of a workflow which includes the usage of Git and Github and demonstrates how the analysis of a jupyter notebook can be made accessible to others.\n",
    "\n",
    "## Demo project\n",
    "\n",
    "First, at a local folder on your system create a demo folder, in my scenario it is called *digital_reporting_demo*, however, you can name it as you like. In this folder I copy a notebook which I already prepared. In your case maybe start with an own notebook from your previous analysis of this course. Note, that all steps which follow are listed according to my personal preferences while multiple other ways exist to fulfill these tasks.\n",
    "\n",
    "To track changes in your demo folder, use the terminal and move to your folder. Inside the folder call `git init` to initialize the local repository. If you receive an error message that git is not installed go to this [web page](https://git-scm.com/downloads) and download and install the latest version. If you are using git for the first time, it might be a good idea to add your name and email address to the configuration by `git config --global user.name \"my name\"` and `git config --global user.email \"my email\"`. Note that this is optional.\n",
    "\n",
    "So far, not much happened. Whenever you want to get the current status of your Git tracked repository, you can call `git status` which currently tells you the there have not been any commits in the repository. This means Git is aware of the file, but it is not tracked currently. To do so, you need to add the folder content to the staging environment and commit them. To add something to the staging environment, you should use `git add`. You can either do this for every file by `git add filename` or for all current content in the folder by `git add --all`. Once you did this, check the status again. It should tell you that there have not bee any commits yet. Next, we can commit the status of our work. Committing something via Git creates a snapshot of the current status. Later, you can go back to this status if you want. To do this with Git call `git commit -m \"a message which explains the status or change\"`. Note that a commit should always be done with a message that gives a brief explanation of the project's status. To examine a history of commits to the repository, you can use the `git log` function.\n",
    "\n",
    "One of the most powerful concepts of Git when working in a team is *branching*. A branch is a separated environment in your repository which can be created to work on the project without altering the original version. This has the purpose to only include new changes once we are sure that they work and do not cause any problems. The process is to create a new branch, make adjustments and merge the branch to the current project's version. If you call `git branch` you can see the current branches in your repository. Currently, it should only be the *main* branch. To create a new branch call `git branch desired_branch_name`. Calling `git branch` should now show you two branches. The one with the asterisk symbol is the current branch. To switch to the new branch call `git checkout desired_branch_name`. Now add a new file to your project, e.g., by calling `nano Readme.md` in the terminal (or in some other way). Write some text you like and close and save. Now, call `git status` which should tell you that there are untracked files on your branch. Next stage and commit these changes for the branch as before by using `git add` and `git commit`. As a result, we now have two branches (this one and main) with different versions of the repository. To examine this, first call `ls` in the terminal. You should see two files (the first one with which we started and the second one we currently added). Now switch back to the main branch by using `git checkout main` and call `ls`. You should only see the first file with which we started. This is what it is all about! To include the new changes into the main project (and branch), make sure you are currently in the *main* branch and call `git merge branch_name_to_merge`. Once you did this, it should tell you a Fast-forward merge has been done. This tells us that Git sees the changes as a continuation of the main branch. If the purpose of the branch has been fulfilled, we can delete it by `git branch -d branch_name`. If different branches are used at the same time, merge conflicts may occur. See this [example](https://www.w3schools.com/git/git_branch_merge.asp?remote=github) how to examine and fix conflicts. \n",
    "\n",
    "This is how we can use Git locally to manage changes of a project. If we want to share the project with others, we can make use of Github. You need an account and sign in to do the following steps. Once yor are signed in at Github, you can create an online repository by clicking on the plus symbol in the upper right of the page and select *new repository*. Next, give the repository a name, I prefer to use the same name as on my local system, however, this is optional. Click on *create repository*. Github will display some quick setup recommendations. As we already have a local repository on our system, we want to push an existing repository from the command line. Copy the displayed code into your terminal and run it. If everything worked as it should, you can refresh your page on Github and you should see the changes in the online repository matching the content of your local repository. You should also see your notebook, if you click on it and observe the content of your notebook. As the output of your notebook is rendered this is a powerful way to share your analyses with others that do not have any knowledge about python. See this [link](https://github.com/RalfKellner/digital_reporting_demo/blob/main/example_notebook.ipynb) to examine my notebook in the online repository. \n",
    "\n",
    "To integrate the workflow of Git and Github, let us change a file in the online repository. In my example, I added a *Readme.md* file whose content is displayed at the [front page](https://github.com/RalfKellner/digital_reporting_demo/) of the Github repository. By clicking at the *Edit file* symbol, you can directly make changes to a file in the online repository. Note that this simulates if another team member created changes to the online repository which are not included into your local repository so far. \n",
    "\n",
    "To update your local repository you can call `git pull` from your terminal. In detail, this fetches updates from the online repository and merges them with your main branch. A detailed explanation can be found [here](https://www.w3schools.com/git/git_pull_from_remote.asp?remote=github). If your main branch is ahead of the origin in the online repository, you should push your committed changes by calling `git push origin main` which states to push the commit of your local main repository to the remote origin repository. \n",
    "\n",
    "The only thing left is how to work with branches on Github. To create a branch on Github in your online repository, you can click the *main* branch in the left below your repository's name. By typing a new name the create branch option pops up which you can use to create the branch in the online repository. By creating it, it is already active. Now as before, make some change in the online repository and commit them online to the new branch. If we not `git pull` on our local repository, the output tells us that a new branch is identified, however, calling `git branch` locally does not show the new branch. But, if you call `git branch -a` the online repository should be visible. Use the `git checkout online_branch_name` call to switch to the state of the online branch. If you examine the status, you will see that this branch is up to date and now calling `git branch` shows you that the branch is available as if you would have created it locally. You can now continue working on this branch and if your are done you can merge it to your local main branch which will going to be ahead of the online branch.\n",
    "\n",
    "If you start with another local branch work on it and want to push it to Github just use `git push origin branch_name` if *branch_name* is active in your local repository. After the other branch is available in the online repository, you can follow the merge hint, pull and merge to merge changes to the main branch in the online repository. "
   ]
  },
  {
   "cell_type": "markdown",
   "metadata": {},
   "source": [
    "## Streamlit\n",
    "\n",
    "Building web applications with streamlit."
   ]
  }
 ],
 "metadata": {
  "kernelspec": {
   "display_name": ".venv",
   "language": "python",
   "name": "python3"
  },
  "language_info": {
   "codemirror_mode": {
    "name": "ipython",
    "version": 3
   },
   "file_extension": ".py",
   "mimetype": "text/x-python",
   "name": "python",
   "nbconvert_exporter": "python",
   "pygments_lexer": "ipython3",
   "version": "3.11.7"
  }
 },
 "nbformat": 4,
 "nbformat_minor": 2
}
