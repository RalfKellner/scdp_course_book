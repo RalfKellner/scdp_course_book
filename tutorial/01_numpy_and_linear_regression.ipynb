{
 "cells": [
  {
   "cell_type": "markdown",
   "metadata": {},
   "source": [
    "* create and access numpy arrays; stock returns, means, covariance matrix, correlation matrix, pairwise correlation as lower triangular matrix\n",
    "* write the linear regression class"
   ]
  }
 ],
 "metadata": {
  "language_info": {
   "name": "python"
  }
 },
 "nbformat": 4,
 "nbformat_minor": 2
}
