{
 "cells": [
  {
   "cell_type": "markdown",
   "metadata": {},
   "source": [
    "# Assignment description\n",
    "\n",
    "This document serves to specify and define the task for the assignment of the course Scientific Computing and Digital Reporting with Python in the summer semester 2024.\n",
    "\n",
    "## Task definition\n",
    "\n",
    "Your task is to build a multi-page app which is build with Streamlit and at least has four distinct pages. The topic of the app is \"Financial Markets\". Besides the content as demanded below, all parts of the assignment should contain short and precise explanations of individual components of the pages.\n",
    "\n",
    "* The first page is meant to provide a market overview. Possible financial markets are: equity, bond, cryptocurrency, commodities, foreign exchange or real estate. The page must contain visualizations, descriptive statistics and/or other quantitative metrics which allow the user to inform herself about developments in the market recently and in the history. The user must at least be able to select a time period for which a part of the visualizations and statistics are updated automatically after selection. \n",
    "* The second page is meant to automatically retrieve current financial news and estimate their sentiment using [this](https://huggingface.co/yiyanghkust/finbert-tone) model. The page must at least include two different news sources which can be selected by the user. Furthermore, an additional selection must be included which enables the user to filter news with positive or negative sentiment, only.\n",
    "* The third page is meant to examine a US stock market listed company and its relation to the market. The page should include basic information about the company, appropriate visualization and descriptive statistics which allows the user to inform herself about recent and historical developments of the company. The user must at least be able to select a company by inserting a ticker symbol and a time period for which a part of the visualizations and statistics are updated automatically after selection. In addition, the page is supposed to illustrate regression results, if the company's daily return for the selected time period is regressed against daily returns of the S\\&P 500 or Russell 3000 index. The results must include the estimated exposure towards the index (the beta) and the adjusted coefficient of determination. Optionally, the relationship of the company to the index can be additionally visualized. \n",
    "* The fourth page is meant to give you the opportunity for being creative. Think about something you find interesting on financial markets and build a page which show cases this and enables users to experience it for themselves. \n",
    "\n",
    "## Grading \n",
    "\n",
    "The assessment of the assignment is made up of individual aspects. \n",
    "\n",
    "* Appropriate scope: The required contents are included on the page. The content is presented in an appealing and compact form, with neither too many nor too few illustrations.\n",
    "* Programming: The user uses suitable packages in the Python programming language to display and process the required content. The basic rules of clean programming are observed.  For example, specially defined functions, loops and suitable methods from the numpy, pandas, scikit-learn and streamlit packages are used. \n",
    "\n",
    "## Plagiarism\n",
    "\n",
    "While it is understandable that there may be individual duplicates of individual parts of the multi-page app, the heterogeneity of possible implementations of the task means that exact duplicates of the entire task or the individual pages can be ruled out, except if people work together for the assignment. This is prohibited as the assignment is meant to be used for individual grading. This discussion applies not only to the names of variables and functions, but also to the structuring of the code. Therefore, work in which there is more than 50\\% overlap of the names or code structure on individual pages is classified as conspicuous and, in extreme cases, reported to the Examination Office as possible plagiarism after further investigation. \n",
    "\n",
    "## Submission\n",
    "\n",
    "The assignment must be submitted as a folder in compressed form until September 1, 2024 to lukas.reichmann@uni-passau.de. Each folder must include the pages of the app which are written as .py scripts. Furthermore, the folder must include a txt-file which includes all packages which are necessary to run the app. "
   ]
  }
 ],
 "metadata": {
  "language_info": {
   "name": "python"
  }
 },
 "nbformat": 4,
 "nbformat_minor": 2
}
